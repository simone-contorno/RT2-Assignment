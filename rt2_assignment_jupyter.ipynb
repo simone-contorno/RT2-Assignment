{
 "cells": [
  {
   "cell_type": "code",
   "execution_count": 3,
   "id": "b862b175",
   "metadata": {
    "ExecuteTime": {
     "end_time": "2022-03-19T15:13:09.102266Z",
     "start_time": "2022-03-19T15:13:09.047160Z"
    },
    "scrolled": false
   },
   "outputs": [
    {
     "name": "stdout",
     "output_type": "stream",
     "text": [
      "\n",
      "Welcome to the User Interface!\n",
      "Here you can choose between two different modalities to control your robot: automatic goal reaching or manual driving, with or without the driving assistance!\n",
      "Choose an action:\n"
     ]
    },
    {
     "data": {
      "application/vnd.jupyter.widget-view+json": {
       "model_id": "f0e6f0cf8d214cba933c4f7ca4fc8cd9",
       "version_major": 2,
       "version_minor": 0
      },
      "text/plain": [
       "Button(description='Exit', style=ButtonStyle())"
      ]
     },
     "metadata": {},
     "output_type": "display_data"
    },
    {
     "data": {
      "application/vnd.jupyter.widget-view+json": {
       "model_id": "742ee742d2b4437bbe4c2e7b3c89a4bf",
       "version_major": 2,
       "version_minor": 0
      },
      "text/plain": [
       "Button(description='Insert new coordinates to reach', style=ButtonStyle())"
      ]
     },
     "metadata": {},
     "output_type": "display_data"
    },
    {
     "data": {
      "application/vnd.jupyter.widget-view+json": {
       "model_id": "ab4aba9c52b64922bc68c67cd11dabfc",
       "version_major": 2,
       "version_minor": 0
      },
      "text/plain": [
       "Button(description='Cancel the current goal', style=ButtonStyle())"
      ]
     },
     "metadata": {},
     "output_type": "display_data"
    },
    {
     "data": {
      "application/vnd.jupyter.widget-view+json": {
       "model_id": "0493d5e88f5c49b886f9e317c46346d1",
       "version_major": 2,
       "version_minor": 0
      },
      "text/plain": [
       "Button(description='Manual driving', style=ButtonStyle())"
      ]
     },
     "metadata": {},
     "output_type": "display_data"
    },
    {
     "data": {
      "application/vnd.jupyter.widget-view+json": {
       "model_id": "ae3804767047495b94a173a6bbbcb44b",
       "version_major": 2,
       "version_minor": 0
      },
      "text/plain": [
       "Button(description='Enable driving assistance', style=ButtonStyle())"
      ]
     },
     "metadata": {},
     "output_type": "display_data"
    }
   ],
   "source": [
    "# Robotics control in a simulated environment\n",
    "# Robotics Engineering\n",
    "# \n",
    "# @file rt2_assignment_jupyter.ipynb\n",
    "# @author Simone Contorno (@simone-contorno)\n",
    "# @copyright Copyright (c) 2022\n",
    "\n",
    "# Jupyter headers\n",
    "import jupyros as jr\n",
    "import ipywidgets as widgets\n",
    "from IPython.display import display, clear_output\n",
    "\n",
    "# ROS headers\n",
    "import rospy\n",
    "import actionlib\n",
    "from geometry_msgs.msg import Twist\n",
    "from move_base_msgs.msg import MoveBaseAction, MoveBaseGoal, MoveBaseActionGoal\n",
    "\n",
    "pub_goal = rospy.Publisher('/move_base/goal', MoveBaseActionGoal, queue_size = 1000)\n",
    "#client = actionlib.SimpleActionClient('move_base', MoveBaseAction)\n",
    "#client.wait_for_server()\n",
    "output = widgets.Output()\n",
    "x = 0.0\n",
    "y = 0.0\n",
    "goal_flag = 0;\n",
    "rospy.set_param('/goal_flag', goal_flag)\n",
    "    \n",
    "# Go back to the interface\n",
    "def back(arg):\n",
    "    clear_output() # Clear the cell output\n",
    "    interface()\n",
    "    \n",
    "# Terminate the program\n",
    "def terminate(arg):\n",
    "    #client.wait_for_server()\n",
    "    rospy.set_param('/goal_flag', 0)\n",
    "    #client.cancel_goal()\n",
    "    \n",
    "    clear_output() # Clear the cell output\n",
    "    print(\"Bye.\")\n",
    "\n",
    "# Send the new coordinates\n",
    "def send_coordinates(arg):\n",
    "    '''\n",
    "    goal_pos = MoveBaseGoal()\n",
    "    goal_pos.target_pose.header.frame_id = \"map\"\n",
    "    goal_pos.target_pose.pose.orientation.w = 1\n",
    "    goal_pos.target_pose.pose.position.x = x\n",
    "    goal_pos.target_pose.pose.position.y = y\n",
    "    '''\n",
    "    goal_pos = MoveBaseActionGoal()    \n",
    "    goal_pos.goal.target_pose.header.frame_id = \"map\"\n",
    "    goal_pos.goal.target_pose.pose.orientation.w = 1;\n",
    "    goal_pos.goal.target_pose.pose.position.x = x.value;\n",
    "    goal_pos.goal.target_pose.pose.position.y = y.value;\n",
    "\n",
    "    # Publish\n",
    "    #client.wait_for_server()\n",
    "    #client.send_goal(goal_pos)\n",
    "    pub_goal.publish(goal_pos)\n",
    "    rospy.set_param('/goal_flag', 1)\n",
    "    \n",
    "    with output:    \n",
    "        output.clear_output()\n",
    "        print(\"Goal sent.\\n\")\n",
    "\n",
    "# Set new coordinated\n",
    "def set_coordinates(arg):\n",
    "    clear_output() # Clear the cell output\n",
    "    print(\"Insert coordinates:\")\n",
    "    \n",
    "    button = widgets.Button(description = 'Send') \n",
    "    back_button = widgets.Button(description = 'Back')\n",
    "    \n",
    "    global x\n",
    "    global y \n",
    "    \n",
    "    x = widgets.BoundedFloatText(\n",
    "    value = 0.0,\n",
    "    min = -100,\n",
    "    step = 0.1,\n",
    "    description = 'x :',\n",
    "    disabled = False\n",
    "    )\n",
    "    y = widgets.BoundedFloatText(\n",
    "    value = 0.0,\n",
    "    min = -100,\n",
    "    step = 0.1,\n",
    "    description = 'y :',\n",
    "    disabled = False\n",
    "    )\n",
    "    \n",
    "    back_button.on_click(back)\n",
    "    button.on_click(send_coordinates)\n",
    "    \n",
    "    display(x, y, button, back_button, output)\n",
    "\n",
    "# Cancel the current goal\n",
    "def cancel_goal(arg):\n",
    "    goal_flag = rospy.get_param(\"/goal_flag\")\n",
    "    if goal_flag == 1:\n",
    "        rospy.set_param('/goal_flag', 0)\n",
    "        #client.cancel_goal()\n",
    "        goal_flag = 0\n",
    "        with output:    \n",
    "            output.clear_output()\n",
    "            print(\"Goal cancelled.\\n\")\n",
    "    else: \n",
    "        with output:    \n",
    "            output.clear_output()\n",
    "            print(\"There is no goal set.\\n\")\n",
    "\n",
    "# Show the UI\n",
    "def interface():\n",
    "    res = '5'\n",
    "    \n",
    "    # Manage printing\n",
    "    flag = 0 \n",
    "    \n",
    "    print(\"Choose an action:\")\n",
    "    exit = widgets.Button(description = 'Exit')\n",
    "    goal = widgets.Button(description = 'Insert new coordinates to reach')\n",
    "    canc = widgets.Button(description = 'Cancel the current goal')\n",
    "    drive = widgets.Button(description = 'Manual driving')\n",
    "    if flag == 0:\n",
    "        with_assist = widgets.Button(description = 'Enable driving assistance')\n",
    "    elif flag == 1:\n",
    "        without_assist = widgets.Button(description = 'Disable driving assistance')\n",
    "    \n",
    "    exit.on_click(terminate)\n",
    "    goal.on_click(set_coordinates)\n",
    "    canc.on_click(cancel_goal)\n",
    "    #drive.on_click()\n",
    "    #with_assist.on_click()\n",
    "    #without_assist.on_click()\n",
    "    \n",
    "    if flag == 0:\n",
    "        display(exit, goal, canc, drive, with_assist)\n",
    "    elif flag == 1:\n",
    "        display(exit, goal, canc, drive, without_assist)\n",
    "    \n",
    "    '''\n",
    "    # Manual driving\n",
    "    elif res == '3':\n",
    "        if goal_flag == 1:\n",
    "            rospy.set_param('/goal_flag', 0)\n",
    "            client.cancel_goal()\n",
    "        (flag, counter1) = manualDriving(flag)\n",
    "\n",
    "    # Enable/Disable driving assistance\n",
    "    elif res == '4':\n",
    "        if flag == 0:\n",
    "            rospy.set_param('/drive_flag', 1)\n",
    "            flag = 1\n",
    "            print(\"\\nDriving assistance enabled.\\n\")\n",
    "        elif flag == 1:\n",
    "            rospy.set_param('/drive_flag', 0)\n",
    "            flag = 0\n",
    "            print(\"\\nDriving assistance disabled.\\n\")\n",
    "    '''\n",
    "    \n",
    "def main():\n",
    "    print(\"\\nWelcome to the User Interface!\\n\"\n",
    "        \"Here you can choose between two different \"\n",
    "        \"modalities to control your robot: automatic \"\n",
    "        \"goal reaching or manual driving, with or without \"\n",
    "        \"the driving assistance!\")\n",
    "    rospy.init_node(\"jupyter_interface\")    \n",
    "    interface()\n",
    "\n",
    "if __name__ == '__main__':\n",
    "    main()"
   ]
  },
  {
   "cell_type": "code",
   "execution_count": null,
   "id": "5e0e93b9",
   "metadata": {},
   "outputs": [],
   "source": []
  }
 ],
 "metadata": {
  "kernelspec": {
   "display_name": "Python 3 (ipykernel)",
   "language": "python",
   "name": "python3"
  },
  "language_info": {
   "codemirror_mode": {
    "name": "ipython",
    "version": 3
   },
   "file_extension": ".py",
   "mimetype": "text/x-python",
   "name": "python",
   "nbconvert_exporter": "python",
   "pygments_lexer": "ipython3",
   "version": "3.8.10"
  },
  "toc": {
   "base_numbering": 1,
   "nav_menu": {},
   "number_sections": true,
   "sideBar": true,
   "skip_h1_title": false,
   "title_cell": "Table of Contents",
   "title_sidebar": "Contents",
   "toc_cell": false,
   "toc_position": {},
   "toc_section_display": true,
   "toc_window_display": false
  },
  "varInspector": {
   "cols": {
    "lenName": 16,
    "lenType": 16,
    "lenVar": 40
   },
   "kernels_config": {
    "python": {
     "delete_cmd_postfix": "",
     "delete_cmd_prefix": "del ",
     "library": "var_list.py",
     "varRefreshCmd": "print(var_dic_list())"
    },
    "r": {
     "delete_cmd_postfix": ") ",
     "delete_cmd_prefix": "rm(",
     "library": "var_list.r",
     "varRefreshCmd": "cat(var_dic_list()) "
    }
   },
   "types_to_exclude": [
    "module",
    "function",
    "builtin_function_or_method",
    "instance",
    "_Feature"
   ],
   "window_display": false
  }
 },
 "nbformat": 4,
 "nbformat_minor": 5
}
